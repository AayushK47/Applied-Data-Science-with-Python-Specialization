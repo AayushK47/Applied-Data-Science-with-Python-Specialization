{
 "cells": [
  {
   "cell_type": "markdown",
   "metadata": {},
   "source": [
    "# Subplots"
   ]
  },
  {
   "cell_type": "code",
   "execution_count": 1,
   "metadata": {
    "collapsed": true
   },
   "outputs": [],
   "source": [
    "%matplotlib notebook\n",
    "\n",
    "import matplotlib.pyplot as plt\n",
    "import numpy as np\n",
    "\n",
    "plt.subplot?"
   ]
  },
  {
   "cell_type": "code",
   "execution_count": 2,
   "metadata": {
    "collapsed": false
   },
   "outputs": [
    {
     "data": {
      "application/javascript": [
       "/* Put everything inside the global mpl namespace */\n",
       "window.mpl = {};\n",
       "\n",
       "\n",
       "mpl.get_websocket_type = function() {\n",
       "    if (typeof(WebSocket) !== 'undefined') {\n",
       "        return WebSocket;\n",
       "    } else if (typeof(MozWebSocket) !== 'undefined') {\n",
       "        return MozWebSocket;\n",
       "    } else {\n",
       "        alert('Your browser does not have WebSocket support.' +\n",
       "              'Please try Chrome, Safari or Firefox ≥ 6. ' +\n",
       "              'Firefox 4 and 5 are also supported but you ' +\n",
       "              'have to enable WebSockets in about:config.');\n",
       "    };\n",
       "}\n",
       "\n",
       "mpl.figure = function(figure_id, websocket, ondownload, parent_element) {\n",
       "    this.id = figure_id;\n",
       "\n",
       "    this.ws = websocket;\n",
       "\n",
       "    this.supports_binary = (this.ws.binaryType != undefined);\n",
       "\n",
       "    if (!this.supports_binary) {\n",
       "        var warnings = document.getElementById(\"mpl-warnings\");\n",
       "        if (warnings) {\n",
       "            warnings.style.display = 'block';\n",
       "            warnings.textContent = (\n",
       "                \"This browser does not support binary websocket messages. \" +\n",
       "                    \"Performance may be slow.\");\n",
       "        }\n",
       "    }\n",
       "\n",
       "    this.imageObj = new Image();\n",
       "\n",
       "    this.context = undefined;\n",
       "    this.message = undefined;\n",
       "    this.canvas = undefined;\n",
       "    this.rubberband_canvas = undefined;\n",
       "    this.rubberband_context = undefined;\n",
       "    this.format_dropdown = undefined;\n",
       "\n",
       "    this.image_mode = 'full';\n",
       "\n",
       "    this.root = $('<div/>');\n",
       "    this._root_extra_style(this.root)\n",
       "    this.root.attr('style', 'display: inline-block');\n",
       "\n",
       "    $(parent_element).append(this.root);\n",
       "\n",
       "    this._init_header(this);\n",
       "    this._init_canvas(this);\n",
       "    this._init_toolbar(this);\n",
       "\n",
       "    var fig = this;\n",
       "\n",
       "    this.waiting = false;\n",
       "\n",
       "    this.ws.onopen =  function () {\n",
       "            fig.send_message(\"supports_binary\", {value: fig.supports_binary});\n",
       "            fig.send_message(\"send_image_mode\", {});\n",
       "            if (mpl.ratio != 1) {\n",
       "                fig.send_message(\"set_dpi_ratio\", {'dpi_ratio': mpl.ratio});\n",
       "            }\n",
       "            fig.send_message(\"refresh\", {});\n",
       "        }\n",
       "\n",
       "    this.imageObj.onload = function() {\n",
       "            if (fig.image_mode == 'full') {\n",
       "                // Full images could contain transparency (where diff images\n",
       "                // almost always do), so we need to clear the canvas so that\n",
       "                // there is no ghosting.\n",
       "                fig.context.clearRect(0, 0, fig.canvas.width, fig.canvas.height);\n",
       "            }\n",
       "            fig.context.drawImage(fig.imageObj, 0, 0);\n",
       "        };\n",
       "\n",
       "    this.imageObj.onunload = function() {\n",
       "        this.ws.close();\n",
       "    }\n",
       "\n",
       "    this.ws.onmessage = this._make_on_message_function(this);\n",
       "\n",
       "    this.ondownload = ondownload;\n",
       "}\n",
       "\n",
       "mpl.figure.prototype._init_header = function() {\n",
       "    var titlebar = $(\n",
       "        '<div class=\"ui-dialog-titlebar ui-widget-header ui-corner-all ' +\n",
       "        'ui-helper-clearfix\"/>');\n",
       "    var titletext = $(\n",
       "        '<div class=\"ui-dialog-title\" style=\"width: 100%; ' +\n",
       "        'text-align: center; padding: 3px;\"/>');\n",
       "    titlebar.append(titletext)\n",
       "    this.root.append(titlebar);\n",
       "    this.header = titletext[0];\n",
       "}\n",
       "\n",
       "\n",
       "\n",
       "mpl.figure.prototype._canvas_extra_style = function(canvas_div) {\n",
       "\n",
       "}\n",
       "\n",
       "\n",
       "mpl.figure.prototype._root_extra_style = function(canvas_div) {\n",
       "\n",
       "}\n",
       "\n",
       "mpl.figure.prototype._init_canvas = function() {\n",
       "    var fig = this;\n",
       "\n",
       "    var canvas_div = $('<div/>');\n",
       "\n",
       "    canvas_div.attr('style', 'position: relative; clear: both; outline: 0');\n",
       "\n",
       "    function canvas_keyboard_event(event) {\n",
       "        return fig.key_event(event, event['data']);\n",
       "    }\n",
       "\n",
       "    canvas_div.keydown('key_press', canvas_keyboard_event);\n",
       "    canvas_div.keyup('key_release', canvas_keyboard_event);\n",
       "    this.canvas_div = canvas_div\n",
       "    this._canvas_extra_style(canvas_div)\n",
       "    this.root.append(canvas_div);\n",
       "\n",
       "    var canvas = $('<canvas/>');\n",
       "    canvas.addClass('mpl-canvas');\n",
       "    canvas.attr('style', \"left: 0; top: 0; z-index: 0; outline: 0\")\n",
       "\n",
       "    this.canvas = canvas[0];\n",
       "    this.context = canvas[0].getContext(\"2d\");\n",
       "\n",
       "    var backingStore = this.context.backingStorePixelRatio ||\n",
       "\tthis.context.webkitBackingStorePixelRatio ||\n",
       "\tthis.context.mozBackingStorePixelRatio ||\n",
       "\tthis.context.msBackingStorePixelRatio ||\n",
       "\tthis.context.oBackingStorePixelRatio ||\n",
       "\tthis.context.backingStorePixelRatio || 1;\n",
       "\n",
       "    mpl.ratio = (window.devicePixelRatio || 1) / backingStore;\n",
       "\n",
       "    var rubberband = $('<canvas/>');\n",
       "    rubberband.attr('style', \"position: absolute; left: 0; top: 0; z-index: 1;\")\n",
       "\n",
       "    var pass_mouse_events = true;\n",
       "\n",
       "    canvas_div.resizable({\n",
       "        start: function(event, ui) {\n",
       "            pass_mouse_events = false;\n",
       "        },\n",
       "        resize: function(event, ui) {\n",
       "            fig.request_resize(ui.size.width, ui.size.height);\n",
       "        },\n",
       "        stop: function(event, ui) {\n",
       "            pass_mouse_events = true;\n",
       "            fig.request_resize(ui.size.width, ui.size.height);\n",
       "        },\n",
       "    });\n",
       "\n",
       "    function mouse_event_fn(event) {\n",
       "        if (pass_mouse_events)\n",
       "            return fig.mouse_event(event, event['data']);\n",
       "    }\n",
       "\n",
       "    rubberband.mousedown('button_press', mouse_event_fn);\n",
       "    rubberband.mouseup('button_release', mouse_event_fn);\n",
       "    // Throttle sequential mouse events to 1 every 20ms.\n",
       "    rubberband.mousemove('motion_notify', mouse_event_fn);\n",
       "\n",
       "    rubberband.mouseenter('figure_enter', mouse_event_fn);\n",
       "    rubberband.mouseleave('figure_leave', mouse_event_fn);\n",
       "\n",
       "    canvas_div.on(\"wheel\", function (event) {\n",
       "        event = event.originalEvent;\n",
       "        event['data'] = 'scroll'\n",
       "        if (event.deltaY < 0) {\n",
       "            event.step = 1;\n",
       "        } else {\n",
       "            event.step = -1;\n",
       "        }\n",
       "        mouse_event_fn(event);\n",
       "    });\n",
       "\n",
       "    canvas_div.append(canvas);\n",
       "    canvas_div.append(rubberband);\n",
       "\n",
       "    this.rubberband = rubberband;\n",
       "    this.rubberband_canvas = rubberband[0];\n",
       "    this.rubberband_context = rubberband[0].getContext(\"2d\");\n",
       "    this.rubberband_context.strokeStyle = \"#000000\";\n",
       "\n",
       "    this._resize_canvas = function(width, height) {\n",
       "        // Keep the size of the canvas, canvas container, and rubber band\n",
       "        // canvas in synch.\n",
       "        canvas_div.css('width', width)\n",
       "        canvas_div.css('height', height)\n",
       "\n",
       "        canvas.attr('width', width * mpl.ratio);\n",
       "        canvas.attr('height', height * mpl.ratio);\n",
       "        canvas.attr('style', 'width: ' + width + 'px; height: ' + height + 'px;');\n",
       "\n",
       "        rubberband.attr('width', width);\n",
       "        rubberband.attr('height', height);\n",
       "    }\n",
       "\n",
       "    // Set the figure to an initial 600x600px, this will subsequently be updated\n",
       "    // upon first draw.\n",
       "    this._resize_canvas(600, 600);\n",
       "\n",
       "    // Disable right mouse context menu.\n",
       "    $(this.rubberband_canvas).bind(\"contextmenu\",function(e){\n",
       "        return false;\n",
       "    });\n",
       "\n",
       "    function set_focus () {\n",
       "        canvas.focus();\n",
       "        canvas_div.focus();\n",
       "    }\n",
       "\n",
       "    window.setTimeout(set_focus, 100);\n",
       "}\n",
       "\n",
       "mpl.figure.prototype._init_toolbar = function() {\n",
       "    var fig = this;\n",
       "\n",
       "    var nav_element = $('<div/>')\n",
       "    nav_element.attr('style', 'width: 100%');\n",
       "    this.root.append(nav_element);\n",
       "\n",
       "    // Define a callback function for later on.\n",
       "    function toolbar_event(event) {\n",
       "        return fig.toolbar_button_onclick(event['data']);\n",
       "    }\n",
       "    function toolbar_mouse_event(event) {\n",
       "        return fig.toolbar_button_onmouseover(event['data']);\n",
       "    }\n",
       "\n",
       "    for(var toolbar_ind in mpl.toolbar_items) {\n",
       "        var name = mpl.toolbar_items[toolbar_ind][0];\n",
       "        var tooltip = mpl.toolbar_items[toolbar_ind][1];\n",
       "        var image = mpl.toolbar_items[toolbar_ind][2];\n",
       "        var method_name = mpl.toolbar_items[toolbar_ind][3];\n",
       "\n",
       "        if (!name) {\n",
       "            // put a spacer in here.\n",
       "            continue;\n",
       "        }\n",
       "        var button = $('<button/>');\n",
       "        button.addClass('ui-button ui-widget ui-state-default ui-corner-all ' +\n",
       "                        'ui-button-icon-only');\n",
       "        button.attr('role', 'button');\n",
       "        button.attr('aria-disabled', 'false');\n",
       "        button.click(method_name, toolbar_event);\n",
       "        button.mouseover(tooltip, toolbar_mouse_event);\n",
       "\n",
       "        var icon_img = $('<span/>');\n",
       "        icon_img.addClass('ui-button-icon-primary ui-icon');\n",
       "        icon_img.addClass(image);\n",
       "        icon_img.addClass('ui-corner-all');\n",
       "\n",
       "        var tooltip_span = $('<span/>');\n",
       "        tooltip_span.addClass('ui-button-text');\n",
       "        tooltip_span.html(tooltip);\n",
       "\n",
       "        button.append(icon_img);\n",
       "        button.append(tooltip_span);\n",
       "\n",
       "        nav_element.append(button);\n",
       "    }\n",
       "\n",
       "    var fmt_picker_span = $('<span/>');\n",
       "\n",
       "    var fmt_picker = $('<select/>');\n",
       "    fmt_picker.addClass('mpl-toolbar-option ui-widget ui-widget-content');\n",
       "    fmt_picker_span.append(fmt_picker);\n",
       "    nav_element.append(fmt_picker_span);\n",
       "    this.format_dropdown = fmt_picker[0];\n",
       "\n",
       "    for (var ind in mpl.extensions) {\n",
       "        var fmt = mpl.extensions[ind];\n",
       "        var option = $(\n",
       "            '<option/>', {selected: fmt === mpl.default_extension}).html(fmt);\n",
       "        fmt_picker.append(option)\n",
       "    }\n",
       "\n",
       "    // Add hover states to the ui-buttons\n",
       "    $( \".ui-button\" ).hover(\n",
       "        function() { $(this).addClass(\"ui-state-hover\");},\n",
       "        function() { $(this).removeClass(\"ui-state-hover\");}\n",
       "    );\n",
       "\n",
       "    var status_bar = $('<span class=\"mpl-message\"/>');\n",
       "    nav_element.append(status_bar);\n",
       "    this.message = status_bar[0];\n",
       "}\n",
       "\n",
       "mpl.figure.prototype.request_resize = function(x_pixels, y_pixels) {\n",
       "    // Request matplotlib to resize the figure. Matplotlib will then trigger a resize in the client,\n",
       "    // which will in turn request a refresh of the image.\n",
       "    this.send_message('resize', {'width': x_pixels, 'height': y_pixels});\n",
       "}\n",
       "\n",
       "mpl.figure.prototype.send_message = function(type, properties) {\n",
       "    properties['type'] = type;\n",
       "    properties['figure_id'] = this.id;\n",
       "    this.ws.send(JSON.stringify(properties));\n",
       "}\n",
       "\n",
       "mpl.figure.prototype.send_draw_message = function() {\n",
       "    if (!this.waiting) {\n",
       "        this.waiting = true;\n",
       "        this.ws.send(JSON.stringify({type: \"draw\", figure_id: this.id}));\n",
       "    }\n",
       "}\n",
       "\n",
       "\n",
       "mpl.figure.prototype.handle_save = function(fig, msg) {\n",
       "    var format_dropdown = fig.format_dropdown;\n",
       "    var format = format_dropdown.options[format_dropdown.selectedIndex].value;\n",
       "    fig.ondownload(fig, format);\n",
       "}\n",
       "\n",
       "\n",
       "mpl.figure.prototype.handle_resize = function(fig, msg) {\n",
       "    var size = msg['size'];\n",
       "    if (size[0] != fig.canvas.width || size[1] != fig.canvas.height) {\n",
       "        fig._resize_canvas(size[0], size[1]);\n",
       "        fig.send_message(\"refresh\", {});\n",
       "    };\n",
       "}\n",
       "\n",
       "mpl.figure.prototype.handle_rubberband = function(fig, msg) {\n",
       "    var x0 = msg['x0'] / mpl.ratio;\n",
       "    var y0 = (fig.canvas.height - msg['y0']) / mpl.ratio;\n",
       "    var x1 = msg['x1'] / mpl.ratio;\n",
       "    var y1 = (fig.canvas.height - msg['y1']) / mpl.ratio;\n",
       "    x0 = Math.floor(x0) + 0.5;\n",
       "    y0 = Math.floor(y0) + 0.5;\n",
       "    x1 = Math.floor(x1) + 0.5;\n",
       "    y1 = Math.floor(y1) + 0.5;\n",
       "    var min_x = Math.min(x0, x1);\n",
       "    var min_y = Math.min(y0, y1);\n",
       "    var width = Math.abs(x1 - x0);\n",
       "    var height = Math.abs(y1 - y0);\n",
       "\n",
       "    fig.rubberband_context.clearRect(\n",
       "        0, 0, fig.canvas.width, fig.canvas.height);\n",
       "\n",
       "    fig.rubberband_context.strokeRect(min_x, min_y, width, height);\n",
       "}\n",
       "\n",
       "mpl.figure.prototype.handle_figure_label = function(fig, msg) {\n",
       "    // Updates the figure title.\n",
       "    fig.header.textContent = msg['label'];\n",
       "}\n",
       "\n",
       "mpl.figure.prototype.handle_cursor = function(fig, msg) {\n",
       "    var cursor = msg['cursor'];\n",
       "    switch(cursor)\n",
       "    {\n",
       "    case 0:\n",
       "        cursor = 'pointer';\n",
       "        break;\n",
       "    case 1:\n",
       "        cursor = 'default';\n",
       "        break;\n",
       "    case 2:\n",
       "        cursor = 'crosshair';\n",
       "        break;\n",
       "    case 3:\n",
       "        cursor = 'move';\n",
       "        break;\n",
       "    }\n",
       "    fig.rubberband_canvas.style.cursor = cursor;\n",
       "}\n",
       "\n",
       "mpl.figure.prototype.handle_message = function(fig, msg) {\n",
       "    fig.message.textContent = msg['message'];\n",
       "}\n",
       "\n",
       "mpl.figure.prototype.handle_draw = function(fig, msg) {\n",
       "    // Request the server to send over a new figure.\n",
       "    fig.send_draw_message();\n",
       "}\n",
       "\n",
       "mpl.figure.prototype.handle_image_mode = function(fig, msg) {\n",
       "    fig.image_mode = msg['mode'];\n",
       "}\n",
       "\n",
       "mpl.figure.prototype.updated_canvas_event = function() {\n",
       "    // Called whenever the canvas gets updated.\n",
       "    this.send_message(\"ack\", {});\n",
       "}\n",
       "\n",
       "// A function to construct a web socket function for onmessage handling.\n",
       "// Called in the figure constructor.\n",
       "mpl.figure.prototype._make_on_message_function = function(fig) {\n",
       "    return function socket_on_message(evt) {\n",
       "        if (evt.data instanceof Blob) {\n",
       "            /* FIXME: We get \"Resource interpreted as Image but\n",
       "             * transferred with MIME type text/plain:\" errors on\n",
       "             * Chrome.  But how to set the MIME type?  It doesn't seem\n",
       "             * to be part of the websocket stream */\n",
       "            evt.data.type = \"image/png\";\n",
       "\n",
       "            /* Free the memory for the previous frames */\n",
       "            if (fig.imageObj.src) {\n",
       "                (window.URL || window.webkitURL).revokeObjectURL(\n",
       "                    fig.imageObj.src);\n",
       "            }\n",
       "\n",
       "            fig.imageObj.src = (window.URL || window.webkitURL).createObjectURL(\n",
       "                evt.data);\n",
       "            fig.updated_canvas_event();\n",
       "            fig.waiting = false;\n",
       "            return;\n",
       "        }\n",
       "        else if (typeof evt.data === 'string' && evt.data.slice(0, 21) == \"data:image/png;base64\") {\n",
       "            fig.imageObj.src = evt.data;\n",
       "            fig.updated_canvas_event();\n",
       "            fig.waiting = false;\n",
       "            return;\n",
       "        }\n",
       "\n",
       "        var msg = JSON.parse(evt.data);\n",
       "        var msg_type = msg['type'];\n",
       "\n",
       "        // Call the  \"handle_{type}\" callback, which takes\n",
       "        // the figure and JSON message as its only arguments.\n",
       "        try {\n",
       "            var callback = fig[\"handle_\" + msg_type];\n",
       "        } catch (e) {\n",
       "            console.log(\"No handler for the '\" + msg_type + \"' message type: \", msg);\n",
       "            return;\n",
       "        }\n",
       "\n",
       "        if (callback) {\n",
       "            try {\n",
       "                // console.log(\"Handling '\" + msg_type + \"' message: \", msg);\n",
       "                callback(fig, msg);\n",
       "            } catch (e) {\n",
       "                console.log(\"Exception inside the 'handler_\" + msg_type + \"' callback:\", e, e.stack, msg);\n",
       "            }\n",
       "        }\n",
       "    };\n",
       "}\n",
       "\n",
       "// from http://stackoverflow.com/questions/1114465/getting-mouse-location-in-canvas\n",
       "mpl.findpos = function(e) {\n",
       "    //this section is from http://www.quirksmode.org/js/events_properties.html\n",
       "    var targ;\n",
       "    if (!e)\n",
       "        e = window.event;\n",
       "    if (e.target)\n",
       "        targ = e.target;\n",
       "    else if (e.srcElement)\n",
       "        targ = e.srcElement;\n",
       "    if (targ.nodeType == 3) // defeat Safari bug\n",
       "        targ = targ.parentNode;\n",
       "\n",
       "    // jQuery normalizes the pageX and pageY\n",
       "    // pageX,Y are the mouse positions relative to the document\n",
       "    // offset() returns the position of the element relative to the document\n",
       "    var x = e.pageX - $(targ).offset().left;\n",
       "    var y = e.pageY - $(targ).offset().top;\n",
       "\n",
       "    return {\"x\": x, \"y\": y};\n",
       "};\n",
       "\n",
       "/*\n",
       " * return a copy of an object with only non-object keys\n",
       " * we need this to avoid circular references\n",
       " * http://stackoverflow.com/a/24161582/3208463\n",
       " */\n",
       "function simpleKeys (original) {\n",
       "  return Object.keys(original).reduce(function (obj, key) {\n",
       "    if (typeof original[key] !== 'object')\n",
       "        obj[key] = original[key]\n",
       "    return obj;\n",
       "  }, {});\n",
       "}\n",
       "\n",
       "mpl.figure.prototype.mouse_event = function(event, name) {\n",
       "    var canvas_pos = mpl.findpos(event)\n",
       "\n",
       "    if (name === 'button_press')\n",
       "    {\n",
       "        this.canvas.focus();\n",
       "        this.canvas_div.focus();\n",
       "    }\n",
       "\n",
       "    var x = canvas_pos.x * mpl.ratio;\n",
       "    var y = canvas_pos.y * mpl.ratio;\n",
       "\n",
       "    this.send_message(name, {x: x, y: y, button: event.button,\n",
       "                             step: event.step,\n",
       "                             guiEvent: simpleKeys(event)});\n",
       "\n",
       "    /* This prevents the web browser from automatically changing to\n",
       "     * the text insertion cursor when the button is pressed.  We want\n",
       "     * to control all of the cursor setting manually through the\n",
       "     * 'cursor' event from matplotlib */\n",
       "    event.preventDefault();\n",
       "    return false;\n",
       "}\n",
       "\n",
       "mpl.figure.prototype._key_event_extra = function(event, name) {\n",
       "    // Handle any extra behaviour associated with a key event\n",
       "}\n",
       "\n",
       "mpl.figure.prototype.key_event = function(event, name) {\n",
       "\n",
       "    // Prevent repeat events\n",
       "    if (name == 'key_press')\n",
       "    {\n",
       "        if (event.which === this._key)\n",
       "            return;\n",
       "        else\n",
       "            this._key = event.which;\n",
       "    }\n",
       "    if (name == 'key_release')\n",
       "        this._key = null;\n",
       "\n",
       "    var value = '';\n",
       "    if (event.ctrlKey && event.which != 17)\n",
       "        value += \"ctrl+\";\n",
       "    if (event.altKey && event.which != 18)\n",
       "        value += \"alt+\";\n",
       "    if (event.shiftKey && event.which != 16)\n",
       "        value += \"shift+\";\n",
       "\n",
       "    value += 'k';\n",
       "    value += event.which.toString();\n",
       "\n",
       "    this._key_event_extra(event, name);\n",
       "\n",
       "    this.send_message(name, {key: value,\n",
       "                             guiEvent: simpleKeys(event)});\n",
       "    return false;\n",
       "}\n",
       "\n",
       "mpl.figure.prototype.toolbar_button_onclick = function(name) {\n",
       "    if (name == 'download') {\n",
       "        this.handle_save(this, null);\n",
       "    } else {\n",
       "        this.send_message(\"toolbar_button\", {name: name});\n",
       "    }\n",
       "};\n",
       "\n",
       "mpl.figure.prototype.toolbar_button_onmouseover = function(tooltip) {\n",
       "    this.message.textContent = tooltip;\n",
       "};\n",
       "mpl.toolbar_items = [[\"Home\", \"Reset original view\", \"fa fa-home icon-home\", \"home\"], [\"Back\", \"Back to  previous view\", \"fa fa-arrow-left icon-arrow-left\", \"back\"], [\"Forward\", \"Forward to next view\", \"fa fa-arrow-right icon-arrow-right\", \"forward\"], [\"\", \"\", \"\", \"\"], [\"Pan\", \"Pan axes with left mouse, zoom with right\", \"fa fa-arrows icon-move\", \"pan\"], [\"Zoom\", \"Zoom to rectangle\", \"fa fa-square-o icon-check-empty\", \"zoom\"], [\"\", \"\", \"\", \"\"], [\"Download\", \"Download plot\", \"fa fa-floppy-o icon-save\", \"download\"]];\n",
       "\n",
       "mpl.extensions = [\"eps\", \"jpeg\", \"pdf\", \"png\", \"ps\", \"raw\", \"svg\", \"tif\"];\n",
       "\n",
       "mpl.default_extension = \"png\";var comm_websocket_adapter = function(comm) {\n",
       "    // Create a \"websocket\"-like object which calls the given IPython comm\n",
       "    // object with the appropriate methods. Currently this is a non binary\n",
       "    // socket, so there is still some room for performance tuning.\n",
       "    var ws = {};\n",
       "\n",
       "    ws.close = function() {\n",
       "        comm.close()\n",
       "    };\n",
       "    ws.send = function(m) {\n",
       "        //console.log('sending', m);\n",
       "        comm.send(m);\n",
       "    };\n",
       "    // Register the callback with on_msg.\n",
       "    comm.on_msg(function(msg) {\n",
       "        //console.log('receiving', msg['content']['data'], msg);\n",
       "        // Pass the mpl event to the overriden (by mpl) onmessage function.\n",
       "        ws.onmessage(msg['content']['data'])\n",
       "    });\n",
       "    return ws;\n",
       "}\n",
       "\n",
       "mpl.mpl_figure_comm = function(comm, msg) {\n",
       "    // This is the function which gets called when the mpl process\n",
       "    // starts-up an IPython Comm through the \"matplotlib\" channel.\n",
       "\n",
       "    var id = msg.content.data.id;\n",
       "    // Get hold of the div created by the display call when the Comm\n",
       "    // socket was opened in Python.\n",
       "    var element = $(\"#\" + id);\n",
       "    var ws_proxy = comm_websocket_adapter(comm)\n",
       "\n",
       "    function ondownload(figure, format) {\n",
       "        window.open(figure.imageObj.src);\n",
       "    }\n",
       "\n",
       "    var fig = new mpl.figure(id, ws_proxy,\n",
       "                           ondownload,\n",
       "                           element.get(0));\n",
       "\n",
       "    // Call onopen now - mpl needs it, as it is assuming we've passed it a real\n",
       "    // web socket which is closed, not our websocket->open comm proxy.\n",
       "    ws_proxy.onopen();\n",
       "\n",
       "    fig.parent_element = element.get(0);\n",
       "    fig.cell_info = mpl.find_output_cell(\"<div id='\" + id + \"'></div>\");\n",
       "    if (!fig.cell_info) {\n",
       "        console.error(\"Failed to find cell for figure\", id, fig);\n",
       "        return;\n",
       "    }\n",
       "\n",
       "    var output_index = fig.cell_info[2]\n",
       "    var cell = fig.cell_info[0];\n",
       "\n",
       "};\n",
       "\n",
       "mpl.figure.prototype.handle_close = function(fig, msg) {\n",
       "    var width = fig.canvas.width/mpl.ratio\n",
       "    fig.root.unbind('remove')\n",
       "\n",
       "    // Update the output cell to use the data from the current canvas.\n",
       "    fig.push_to_output();\n",
       "    var dataURL = fig.canvas.toDataURL();\n",
       "    // Re-enable the keyboard manager in IPython - without this line, in FF,\n",
       "    // the notebook keyboard shortcuts fail.\n",
       "    IPython.keyboard_manager.enable()\n",
       "    $(fig.parent_element).html('<img src=\"' + dataURL + '\" width=\"' + width + '\">');\n",
       "    fig.close_ws(fig, msg);\n",
       "}\n",
       "\n",
       "mpl.figure.prototype.close_ws = function(fig, msg){\n",
       "    fig.send_message('closing', msg);\n",
       "    // fig.ws.close()\n",
       "}\n",
       "\n",
       "mpl.figure.prototype.push_to_output = function(remove_interactive) {\n",
       "    // Turn the data on the canvas into data in the output cell.\n",
       "    var width = this.canvas.width/mpl.ratio\n",
       "    var dataURL = this.canvas.toDataURL();\n",
       "    this.cell_info[1]['text/html'] = '<img src=\"' + dataURL + '\" width=\"' + width + '\">';\n",
       "}\n",
       "\n",
       "mpl.figure.prototype.updated_canvas_event = function() {\n",
       "    // Tell IPython that the notebook contents must change.\n",
       "    IPython.notebook.set_dirty(true);\n",
       "    this.send_message(\"ack\", {});\n",
       "    var fig = this;\n",
       "    // Wait a second, then push the new image to the DOM so\n",
       "    // that it is saved nicely (might be nice to debounce this).\n",
       "    setTimeout(function () { fig.push_to_output() }, 1000);\n",
       "}\n",
       "\n",
       "mpl.figure.prototype._init_toolbar = function() {\n",
       "    var fig = this;\n",
       "\n",
       "    var nav_element = $('<div/>')\n",
       "    nav_element.attr('style', 'width: 100%');\n",
       "    this.root.append(nav_element);\n",
       "\n",
       "    // Define a callback function for later on.\n",
       "    function toolbar_event(event) {\n",
       "        return fig.toolbar_button_onclick(event['data']);\n",
       "    }\n",
       "    function toolbar_mouse_event(event) {\n",
       "        return fig.toolbar_button_onmouseover(event['data']);\n",
       "    }\n",
       "\n",
       "    for(var toolbar_ind in mpl.toolbar_items){\n",
       "        var name = mpl.toolbar_items[toolbar_ind][0];\n",
       "        var tooltip = mpl.toolbar_items[toolbar_ind][1];\n",
       "        var image = mpl.toolbar_items[toolbar_ind][2];\n",
       "        var method_name = mpl.toolbar_items[toolbar_ind][3];\n",
       "\n",
       "        if (!name) { continue; };\n",
       "\n",
       "        var button = $('<button class=\"btn btn-default\" href=\"#\" title=\"' + name + '\"><i class=\"fa ' + image + ' fa-lg\"></i></button>');\n",
       "        button.click(method_name, toolbar_event);\n",
       "        button.mouseover(tooltip, toolbar_mouse_event);\n",
       "        nav_element.append(button);\n",
       "    }\n",
       "\n",
       "    // Add the status bar.\n",
       "    var status_bar = $('<span class=\"mpl-message\" style=\"text-align:right; float: right;\"/>');\n",
       "    nav_element.append(status_bar);\n",
       "    this.message = status_bar[0];\n",
       "\n",
       "    // Add the close button to the window.\n",
       "    var buttongrp = $('<div class=\"btn-group inline pull-right\"></div>');\n",
       "    var button = $('<button class=\"btn btn-mini btn-primary\" href=\"#\" title=\"Stop Interaction\"><i class=\"fa fa-power-off icon-remove icon-large\"></i></button>');\n",
       "    button.click(function (evt) { fig.handle_close(fig, {}); } );\n",
       "    button.mouseover('Stop Interaction', toolbar_mouse_event);\n",
       "    buttongrp.append(button);\n",
       "    var titlebar = this.root.find($('.ui-dialog-titlebar'));\n",
       "    titlebar.prepend(buttongrp);\n",
       "}\n",
       "\n",
       "mpl.figure.prototype._root_extra_style = function(el){\n",
       "    var fig = this\n",
       "    el.on(\"remove\", function(){\n",
       "\tfig.close_ws(fig, {});\n",
       "    });\n",
       "}\n",
       "\n",
       "mpl.figure.prototype._canvas_extra_style = function(el){\n",
       "    // this is important to make the div 'focusable\n",
       "    el.attr('tabindex', 0)\n",
       "    // reach out to IPython and tell the keyboard manager to turn it's self\n",
       "    // off when our div gets focus\n",
       "\n",
       "    // location in version 3\n",
       "    if (IPython.notebook.keyboard_manager) {\n",
       "        IPython.notebook.keyboard_manager.register_events(el);\n",
       "    }\n",
       "    else {\n",
       "        // location in version 2\n",
       "        IPython.keyboard_manager.register_events(el);\n",
       "    }\n",
       "\n",
       "}\n",
       "\n",
       "mpl.figure.prototype._key_event_extra = function(event, name) {\n",
       "    var manager = IPython.notebook.keyboard_manager;\n",
       "    if (!manager)\n",
       "        manager = IPython.keyboard_manager;\n",
       "\n",
       "    // Check for shift+enter\n",
       "    if (event.shiftKey && event.which == 13) {\n",
       "        this.canvas_div.blur();\n",
       "        // select the cell after this one\n",
       "        var index = IPython.notebook.find_cell_index(this.cell_info[0]);\n",
       "        IPython.notebook.select(index + 1);\n",
       "    }\n",
       "}\n",
       "\n",
       "mpl.figure.prototype.handle_save = function(fig, msg) {\n",
       "    fig.ondownload(fig, null);\n",
       "}\n",
       "\n",
       "\n",
       "mpl.find_output_cell = function(html_output) {\n",
       "    // Return the cell and output element which can be found *uniquely* in the notebook.\n",
       "    // Note - this is a bit hacky, but it is done because the \"notebook_saving.Notebook\"\n",
       "    // IPython event is triggered only after the cells have been serialised, which for\n",
       "    // our purposes (turning an active figure into a static one), is too late.\n",
       "    var cells = IPython.notebook.get_cells();\n",
       "    var ncells = cells.length;\n",
       "    for (var i=0; i<ncells; i++) {\n",
       "        var cell = cells[i];\n",
       "        if (cell.cell_type === 'code'){\n",
       "            for (var j=0; j<cell.output_area.outputs.length; j++) {\n",
       "                var data = cell.output_area.outputs[j];\n",
       "                if (data.data) {\n",
       "                    // IPython >= 3 moved mimebundle to data attribute of output\n",
       "                    data = data.data;\n",
       "                }\n",
       "                if (data['text/html'] == html_output) {\n",
       "                    return [cell, data, j];\n",
       "                }\n",
       "            }\n",
       "        }\n",
       "    }\n",
       "}\n",
       "\n",
       "// Register the function which deals with the matplotlib target/channel.\n",
       "// The kernel may be null if the page has been refreshed.\n",
       "if (IPython.notebook.kernel != null) {\n",
       "    IPython.notebook.kernel.comm_manager.register_target('matplotlib', mpl.mpl_figure_comm);\n",
       "}\n"
      ],
      "text/plain": [
       "<IPython.core.display.Javascript object>"
      ]
     },
     "metadata": {},
     "output_type": "display_data"
    },
    {
     "data": {
      "text/html": [
       "<img src=\"data:image/png;base64,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\" width=\"640\">"
      ],
      "text/plain": [
       "<IPython.core.display.HTML object>"
      ]
     },
     "metadata": {},
     "output_type": "display_data"
    },
    {
     "data": {
      "text/plain": [
       "[<matplotlib.lines.Line2D at 0x7fbf904ef6a0>]"
      ]
     },
     "execution_count": 2,
     "metadata": {},
     "output_type": "execute_result"
    }
   ],
   "source": [
    "plt.figure()\n",
    "# subplot with 1 row, 2 columns, and current axis is 1st subplot axes\n",
    "plt.subplot(1, 2, 1)\n",
    "\n",
    "linear_data = np.array([1,2,3,4,5,6,7,8])\n",
    "\n",
    "plt.plot(linear_data, '-o')"
   ]
  },
  {
   "cell_type": "code",
   "execution_count": 5,
   "metadata": {
    "collapsed": false
   },
   "outputs": [
    {
     "data": {
      "text/plain": [
       "[<matplotlib.lines.Line2D at 0x7fbf74332828>]"
      ]
     },
     "execution_count": 5,
     "metadata": {},
     "output_type": "execute_result"
    }
   ],
   "source": [
    "exponential_data = linear_data**2 \n",
    "\n",
    "# subplot with 1 row, 2 columns, and current axis is 2nd subplot axes\n",
    "plt.subplot(1, 2, 2)\n",
    "plt.plot(exponential_data, '-o')"
   ]
  },
  {
   "cell_type": "code",
   "execution_count": 4,
   "metadata": {
    "collapsed": false
   },
   "outputs": [
    {
     "data": {
      "text/plain": [
       "[<matplotlib.lines.Line2D at 0x7fbf7431bf60>]"
      ]
     },
     "execution_count": 4,
     "metadata": {},
     "output_type": "execute_result"
    }
   ],
   "source": [
    "# plot exponential data on 1st subplot axes\n",
    "plt.subplot(1, 2, 1)\n",
    "plt.plot(exponential_data, '-x')"
   ]
  },
  {
   "cell_type": "code",
   "execution_count": null,
   "metadata": {
    "collapsed": false
   },
   "outputs": [],
   "source": [
    "plt.figure()\n",
    "ax1 = plt.subplot(1, 2, 1)\n",
    "plt.plot(linear_data, '-o')\n",
    "# pass sharey=ax1 to ensure the two subplots share the same y axis\n",
    "ax2 = plt.subplot(1, 2, 2, sharey=ax1)\n",
    "plt.plot(exponential_data, '-x')"
   ]
  },
  {
   "cell_type": "code",
   "execution_count": null,
   "metadata": {
    "collapsed": false
   },
   "outputs": [],
   "source": [
    "plt.figure()\n",
    "# the right hand side is equivalent shorthand syntax\n",
    "plt.subplot(1,2,1) == plt.subplot(121)"
   ]
  },
  {
   "cell_type": "code",
   "execution_count": null,
   "metadata": {
    "collapsed": false
   },
   "outputs": [],
   "source": [
    "# create a 3x3 grid of subplots\n",
    "fig, ((ax1,ax2,ax3), (ax4,ax5,ax6), (ax7,ax8,ax9)) = plt.subplots(3, 3, sharex=True, sharey=True)\n",
    "# plot the linear_data on the 5th subplot axes \n",
    "ax5.plot(linear_data, '-')"
   ]
  },
  {
   "cell_type": "code",
   "execution_count": null,
   "metadata": {
    "collapsed": false
   },
   "outputs": [],
   "source": [
    "# set inside tick labels to visible\n",
    "for ax in plt.gcf().get_axes():\n",
    "    for label in ax.get_xticklabels() + ax.get_yticklabels():\n",
    "        label.set_visible(True)"
   ]
  },
  {
   "cell_type": "code",
   "execution_count": null,
   "metadata": {
    "collapsed": true
   },
   "outputs": [],
   "source": [
    "# necessary on some systems to update the plot\n",
    "plt.gcf().canvas.draw()"
   ]
  },
  {
   "cell_type": "markdown",
   "metadata": {},
   "source": [
    "# Histograms"
   ]
  },
  {
   "cell_type": "code",
   "execution_count": null,
   "metadata": {
    "collapsed": false
   },
   "outputs": [],
   "source": [
    "# create 2x2 grid of axis subplots\n",
    "fig, ((ax1, ax2), (ax3, ax4)) = plt.subplots(2, 2, sharex=True)\n",
    "axs = [ax1,ax2,ax3,ax4]\n",
    "\n",
    "# draw n = 10, 100, 1000, and 10000 samples from the normal distribution and plot corresponding histograms\n",
    "for n in range(0,len(axs)):\n",
    "    sample_size = 10**(n+1)\n",
    "    sample = np.random.normal(loc=0.0, scale=1.0, size=sample_size)\n",
    "    axs[n].hist(sample)\n",
    "    axs[n].set_title('n={}'.format(sample_size))"
   ]
  },
  {
   "cell_type": "code",
   "execution_count": null,
   "metadata": {
    "collapsed": false
   },
   "outputs": [],
   "source": [
    "# repeat with number of bins set to 100\n",
    "fig, ((ax1, ax2), (ax3, ax4)) = plt.subplots(2, 2, sharex=True)\n",
    "axs = [ax1,ax2,ax3,ax4]\n",
    "\n",
    "for n in range(0,len(axs)):\n",
    "    sample_size = 10**(n+1)\n",
    "    sample = np.random.normal(loc=0.0, scale=1.0, size=sample_size)\n",
    "    axs[n].hist(sample, bins=100)\n",
    "    axs[n].set_title('n={}'.format(sample_size))"
   ]
  },
  {
   "cell_type": "code",
   "execution_count": null,
   "metadata": {
    "collapsed": false
   },
   "outputs": [],
   "source": [
    "plt.figure()\n",
    "Y = np.random.normal(loc=0.0, scale=1.0, size=10000)\n",
    "X = np.random.random(size=10000)\n",
    "plt.scatter(X,Y)"
   ]
  },
  {
   "cell_type": "code",
   "execution_count": null,
   "metadata": {
    "collapsed": false
   },
   "outputs": [],
   "source": [
    "# use gridspec to partition the figure into subplots\n",
    "import matplotlib.gridspec as gridspec\n",
    "\n",
    "plt.figure()\n",
    "gspec = gridspec.GridSpec(3, 3)\n",
    "\n",
    "top_histogram = plt.subplot(gspec[0, 1:])\n",
    "side_histogram = plt.subplot(gspec[1:, 0])\n",
    "lower_right = plt.subplot(gspec[1:, 1:])"
   ]
  },
  {
   "cell_type": "code",
   "execution_count": null,
   "metadata": {
    "collapsed": false
   },
   "outputs": [],
   "source": [
    "Y = np.random.normal(loc=0.0, scale=1.0, size=10000)\n",
    "X = np.random.random(size=10000)\n",
    "lower_right.scatter(X, Y)\n",
    "top_histogram.hist(X, bins=100)\n",
    "s = side_histogram.hist(Y, bins=100, orientation='horizontal')"
   ]
  },
  {
   "cell_type": "code",
   "execution_count": null,
   "metadata": {
    "collapsed": true
   },
   "outputs": [],
   "source": [
    "# clear the histograms and plot normed histograms\n",
    "top_histogram.clear()\n",
    "top_histogram.hist(X, bins=100, normed=True)\n",
    "side_histogram.clear()\n",
    "side_histogram.hist(Y, bins=100, orientation='horizontal', normed=True)\n",
    "# flip the side histogram's x axis\n",
    "side_histogram.invert_xaxis()"
   ]
  },
  {
   "cell_type": "code",
   "execution_count": null,
   "metadata": {
    "collapsed": false
   },
   "outputs": [],
   "source": [
    "# change axes limits\n",
    "for ax in [top_histogram, lower_right]:\n",
    "    ax.set_xlim(0, 1)\n",
    "for ax in [side_histogram, lower_right]:\n",
    "    ax.set_ylim(-5, 5)"
   ]
  },
  {
   "cell_type": "code",
   "execution_count": null,
   "metadata": {
    "collapsed": false
   },
   "outputs": [],
   "source": [
    "%%HTML\n",
    "<img src='http://educationxpress.mit.edu/sites/default/files/journal/WP1-Fig13.jpg' />"
   ]
  },
  {
   "cell_type": "markdown",
   "metadata": {},
   "source": [
    "# Box and Whisker Plots"
   ]
  },
  {
   "cell_type": "code",
   "execution_count": null,
   "metadata": {
    "collapsed": false
   },
   "outputs": [],
   "source": [
    "import pandas as pd\n",
    "normal_sample = np.random.normal(loc=0.0, scale=1.0, size=10000)\n",
    "random_sample = np.random.random(size=10000)\n",
    "gamma_sample = np.random.gamma(2, size=10000)\n",
    "\n",
    "df = pd.DataFrame({'normal': normal_sample, \n",
    "                   'random': random_sample, \n",
    "                   'gamma': gamma_sample})"
   ]
  },
  {
   "cell_type": "code",
   "execution_count": null,
   "metadata": {
    "collapsed": false
   },
   "outputs": [],
   "source": [
    "df.describe()"
   ]
  },
  {
   "cell_type": "code",
   "execution_count": null,
   "metadata": {
    "collapsed": false
   },
   "outputs": [],
   "source": [
    "plt.figure()\n",
    "# create a boxplot of the normal data, assign the output to a variable to supress output\n",
    "_ = plt.boxplot(df['normal'], whis='range')"
   ]
  },
  {
   "cell_type": "code",
   "execution_count": null,
   "metadata": {
    "collapsed": false
   },
   "outputs": [],
   "source": [
    "# clear the current figure\n",
    "plt.clf()\n",
    "# plot boxplots for all three of df's columns\n",
    "_ = plt.boxplot([ df['normal'], df['random'], df['gamma'] ], whis='range')"
   ]
  },
  {
   "cell_type": "code",
   "execution_count": null,
   "metadata": {
    "collapsed": false
   },
   "outputs": [],
   "source": [
    "plt.figure()\n",
    "_ = plt.hist(df['gamma'], bins=100)"
   ]
  },
  {
   "cell_type": "code",
   "execution_count": null,
   "metadata": {
    "collapsed": false
   },
   "outputs": [],
   "source": [
    "import mpl_toolkits.axes_grid1.inset_locator as mpl_il\n",
    "\n",
    "plt.figure()\n",
    "plt.boxplot([ df['normal'], df['random'], df['gamma'] ], whis='range')\n",
    "# overlay axis on top of another \n",
    "ax2 = mpl_il.inset_axes(plt.gca(), width='60%', height='40%', loc=2)\n",
    "ax2.hist(df['gamma'], bins=100)\n",
    "ax2.margins(x=0.5)"
   ]
  },
  {
   "cell_type": "code",
   "execution_count": null,
   "metadata": {
    "collapsed": true
   },
   "outputs": [],
   "source": [
    "# switch the y axis ticks for ax2 to the right side\n",
    "ax2.yaxis.tick_right()"
   ]
  },
  {
   "cell_type": "code",
   "execution_count": null,
   "metadata": {
    "collapsed": false
   },
   "outputs": [],
   "source": [
    "# if `whis` argument isn't passed, boxplot defaults to showing 1.5*interquartile (IQR) whiskers with outliers\n",
    "plt.figure()\n",
    "_ = plt.boxplot([ df['normal'], df['random'], df['gamma'] ] )"
   ]
  },
  {
   "cell_type": "markdown",
   "metadata": {},
   "source": [
    "# Heatmaps"
   ]
  },
  {
   "cell_type": "code",
   "execution_count": null,
   "metadata": {
    "collapsed": false
   },
   "outputs": [],
   "source": [
    "plt.figure()\n",
    "\n",
    "Y = np.random.normal(loc=0.0, scale=1.0, size=10000)\n",
    "X = np.random.random(size=10000)\n",
    "_ = plt.hist2d(X, Y, bins=25)"
   ]
  },
  {
   "cell_type": "code",
   "execution_count": null,
   "metadata": {
    "collapsed": false
   },
   "outputs": [],
   "source": [
    "plt.figure()\n",
    "_ = plt.hist2d(X, Y, bins=100)"
   ]
  },
  {
   "cell_type": "code",
   "execution_count": null,
   "metadata": {
    "collapsed": false
   },
   "outputs": [],
   "source": [
    "# add a colorbar legend\n",
    "plt.colorbar()"
   ]
  },
  {
   "cell_type": "markdown",
   "metadata": {
    "collapsed": true
   },
   "source": [
    "# Animations"
   ]
  },
  {
   "cell_type": "code",
   "execution_count": null,
   "metadata": {
    "collapsed": true
   },
   "outputs": [],
   "source": [
    "import matplotlib.animation as animation\n",
    "\n",
    "n = 100\n",
    "x = np.random.randn(n)"
   ]
  },
  {
   "cell_type": "code",
   "execution_count": null,
   "metadata": {
    "collapsed": false
   },
   "outputs": [],
   "source": [
    "# create the function that will do the plotting, where curr is the current frame\n",
    "def update(curr):\n",
    "    # check if animation is at the last frame, and if so, stop the animation a\n",
    "    if curr == n: \n",
    "        a.event_source.stop()\n",
    "    plt.cla()\n",
    "    bins = np.arange(-4, 4, 0.5)\n",
    "    plt.hist(x[:curr], bins=bins)\n",
    "    plt.axis([-4,4,0,30])\n",
    "    plt.gca().set_title('Sampling the Normal Distribution')\n",
    "    plt.gca().set_ylabel('Frequency')\n",
    "    plt.gca().set_xlabel('Value')\n",
    "    plt.annotate('n = {}'.format(curr), [3,27])"
   ]
  },
  {
   "cell_type": "code",
   "execution_count": null,
   "metadata": {
    "collapsed": false
   },
   "outputs": [],
   "source": [
    "fig = plt.figure()\n",
    "a = animation.FuncAnimation(fig, update, interval=100)"
   ]
  },
  {
   "cell_type": "markdown",
   "metadata": {},
   "source": [
    "# Interactivity"
   ]
  },
  {
   "cell_type": "code",
   "execution_count": null,
   "metadata": {
    "collapsed": false
   },
   "outputs": [],
   "source": [
    "plt.figure()\n",
    "data = np.random.rand(10)\n",
    "plt.plot(data)\n",
    "\n",
    "def onclick(event):\n",
    "    plt.cla()\n",
    "    plt.plot(data)\n",
    "    plt.gca().set_title('Event at pixels {},{} \\nand data {},{}'.format(event.x, event.y, event.xdata, event.ydata))\n",
    "\n",
    "# tell mpl_connect we want to pass a 'button_press_event' into onclick when the event is detected\n",
    "plt.gcf().canvas.mpl_connect('button_press_event', onclick)"
   ]
  },
  {
   "cell_type": "code",
   "execution_count": null,
   "metadata": {
    "collapsed": false
   },
   "outputs": [],
   "source": [
    "from random import shuffle\n",
    "origins = ['China', 'Brazil', 'India', 'USA', 'Canada', 'UK', 'Germany', 'Iraq', 'Chile', 'Mexico']\n",
    "\n",
    "shuffle(origins)\n",
    "\n",
    "df = pd.DataFrame({'height': np.random.rand(10),\n",
    "                   'weight': np.random.rand(10),\n",
    "                   'origin': origins})\n",
    "df"
   ]
  },
  {
   "cell_type": "code",
   "execution_count": null,
   "metadata": {
    "collapsed": false
   },
   "outputs": [],
   "source": [
    "plt.figure()\n",
    "# picker=5 means the mouse doesn't have to click directly on an event, but can be up to 5 pixels away\n",
    "plt.scatter(df['height'], df['weight'], picker=5)\n",
    "plt.gca().set_ylabel('Weight')\n",
    "plt.gca().set_xlabel('Height')"
   ]
  },
  {
   "cell_type": "code",
   "execution_count": null,
   "metadata": {
    "collapsed": false
   },
   "outputs": [],
   "source": [
    "def onpick(event):\n",
    "    origin = df.iloc[event.ind[0]]['origin']\n",
    "    plt.gca().set_title('Selected item came from {}'.format(origin))\n",
    "\n",
    "# tell mpl_connect we want to pass a 'pick_event' into onpick when the event is detected\n",
    "plt.gcf().canvas.mpl_connect('pick_event', onpick)"
   ]
  }
 ],
 "metadata": {
  "kernelspec": {
   "display_name": "Python 3",
   "language": "python",
   "name": "python3"
  },
  "language_info": {
   "codemirror_mode": {
    "name": "ipython",
    "version": 3
   },
   "file_extension": ".py",
   "mimetype": "text/x-python",
   "name": "python",
   "nbconvert_exporter": "python",
   "pygments_lexer": "ipython3",
   "version": "3.6.2"
  }
 },
 "nbformat": 4,
 "nbformat_minor": 1
}
